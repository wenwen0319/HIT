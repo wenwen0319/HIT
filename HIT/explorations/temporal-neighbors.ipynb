{
 "cells": [
  {
   "cell_type": "code",
   "execution_count": 1,
   "metadata": {},
   "outputs": [],
   "source": [
    "import sys\n",
    "sys.path.insert(0, '../')\n",
    "import math\n",
    "import logging\n",
    "import time\n",
    "import random\n",
    "import sys\n",
    "import argparse\n",
    "from tqdm import tqdm\n",
    "import torch\n",
    "import pandas as pd\n",
    "import numpy as np\n",
    "#import numba\n",
    "\n",
    "from sklearn.metrics import average_precision_score\n",
    "from sklearn.metrics import f1_score\n",
    "from sklearn.metrics import roc_auc_score\n",
    "\n",
    "from module import TGAN\n",
    "from graph import NeighborFinder\n",
    "from utils import EarlyStopMonitor, RandEdgeSampler\n",
    "\n",
    "import resource"
   ]
  },
  {
   "cell_type": "markdown",
   "metadata": {},
   "source": [
    "# Preparations"
   ]
  },
  {
   "cell_type": "code",
   "execution_count": 2,
   "metadata": {},
   "outputs": [],
   "source": [
    "DATA = 'wikipedia'\n",
    "UNIFORM = False"
   ]
  },
  {
   "cell_type": "code",
   "execution_count": 3,
   "metadata": {},
   "outputs": [
    {
     "name": "stdout",
     "output_type": "stream",
     "text": [
      "Uniform samping: False\n"
     ]
    }
   ],
   "source": [
    "\n",
    "### Load data and train val test split\n",
    "g_df = pd.read_csv('../processed/ml_{}.csv'.format(DATA))\n",
    "e_feat = np.load('../processed/ml_{}.npy'.format(DATA))\n",
    "n_feat = np.load('../processed/ml_{}_node.npy'.format(DATA))\n",
    "\n",
    "val_time, test_time = list(np.quantile(g_df.ts, [0.70, 0.85]))\n",
    "\n",
    "src_l = g_df.u.values\n",
    "dst_l = g_df.i.values\n",
    "e_idx_l = g_df.idx.values\n",
    "label_l = g_df.label.values\n",
    "ts_l = g_df.ts.values\n",
    "\n",
    "max_src_index = src_l.max()\n",
    "max_idx = max(src_l.max(), dst_l.max())\n",
    "\n",
    "seed = 2020\n",
    "random.seed(seed)\n",
    "np.random.seed(seed)\n",
    "\n",
    "total_node_set = set(np.unique(np.hstack([g_df.u.values, g_df.i.values])))\n",
    "num_total_unique_nodes = len(total_node_set)\n",
    "\n",
    "mask_node_set = set(random.sample(set(src_l[ts_l > val_time]).union(set(dst_l[ts_l > val_time])), int(0.1 * num_total_unique_nodes)))\n",
    "mask_src_flag = g_df.u.map(lambda x: x in mask_node_set).values\n",
    "mask_dst_flag = g_df.i.map(lambda x: x in mask_node_set).values\n",
    "none_node_flag = (1 - mask_src_flag) * (1 - mask_dst_flag)\n",
    "\n",
    "valid_train_flag = (ts_l <= val_time) * (none_node_flag > 0)\n",
    "\n",
    "train_src_l = src_l[valid_train_flag]\n",
    "train_dst_l = dst_l[valid_train_flag]\n",
    "train_ts_l = ts_l[valid_train_flag]\n",
    "train_e_idx_l = e_idx_l[valid_train_flag]\n",
    "train_label_l = label_l[valid_train_flag]\n",
    "\n",
    "# define the new nodes sets for testing inductiveness of the model\n",
    "train_node_set = set(train_src_l).union(train_dst_l)\n",
    "assert(len(train_node_set - mask_node_set) == len(train_node_set))\n",
    "new_node_set = total_node_set - train_node_set\n",
    "\n",
    "# select validation and test dataset\n",
    "valid_val_flag = (ts_l <= test_time) * (ts_l > val_time)\n",
    "valid_test_flag = ts_l > test_time\n",
    "\n",
    "is_new_node_edge = np.array([(a in new_node_set or b in new_node_set) for a, b in zip(src_l, dst_l)])\n",
    "nn_val_flag = valid_val_flag * is_new_node_edge\n",
    "nn_test_flag = valid_test_flag * is_new_node_edge\n",
    "\n",
    "# validation and test with all edges\n",
    "val_src_l = src_l[valid_val_flag]\n",
    "val_dst_l = dst_l[valid_val_flag]\n",
    "val_ts_l = ts_l[valid_val_flag]\n",
    "val_e_idx_l = e_idx_l[valid_val_flag]\n",
    "val_label_l = label_l[valid_val_flag]\n",
    "\n",
    "test_src_l = src_l[valid_test_flag]\n",
    "test_dst_l = dst_l[valid_test_flag]\n",
    "test_ts_l = ts_l[valid_test_flag]\n",
    "test_e_idx_l = e_idx_l[valid_test_flag]\n",
    "test_label_l = label_l[valid_test_flag]\n",
    "# validation and test with edges that at least has one new node (not in training set)\n",
    "nn_val_src_l = src_l[nn_val_flag]\n",
    "nn_val_dst_l = dst_l[nn_val_flag]\n",
    "nn_val_ts_l = ts_l[nn_val_flag]\n",
    "nn_val_e_idx_l = e_idx_l[nn_val_flag]\n",
    "nn_val_label_l = label_l[nn_val_flag]\n",
    "\n",
    "nn_test_src_l = src_l[nn_test_flag]\n",
    "nn_test_dst_l = dst_l[nn_test_flag]\n",
    "nn_test_ts_l = ts_l[nn_test_flag]\n",
    "nn_test_e_idx_l = e_idx_l[nn_test_flag]\n",
    "nn_test_label_l = label_l[nn_test_flag]\n",
    "print('Uniform samping:', UNIFORM)\n",
    "### Initialize the data structure for graph and edge sampling\n",
    "# build the graph for fast query\n",
    "# graph only contains the training data (with 10% nodes removal)\n",
    "adj_list = [[] for _ in range(max_idx + 1)]\n",
    "for src, dst, eidx, ts in zip(train_src_l, train_dst_l, train_e_idx_l, train_ts_l):\n",
    "    adj_list[src].append((dst, eidx, ts))\n",
    "    adj_list[dst].append((src, eidx, ts))\n",
    "train_ngh_finder = NeighborFinder(adj_list, uniform=UNIFORM)\n",
    "\n",
    "# full graph with all the data for the test and validation purpose\n",
    "full_adj_list = [[] for _ in range(max_idx + 1)]\n",
    "for src, dst, eidx, ts in zip(src_l, dst_l, e_idx_l, ts_l):\n",
    "    full_adj_list[src].append((dst, eidx, ts))\n",
    "    full_adj_list[dst].append((src, eidx, ts))\n",
    "full_ngh_finder = NeighborFinder(full_adj_list, uniform=UNIFORM)"
   ]
  },
  {
   "cell_type": "code",
   "execution_count": 4,
   "metadata": {},
   "outputs": [],
   "source": [
    "mean_, degs = train_ngh_finder.compute_degs()"
   ]
  },
  {
   "cell_type": "code",
   "execution_count": 5,
   "metadata": {},
   "outputs": [
    {
     "data": {
      "text/plain": [
       "93.55100642979674"
      ]
     },
     "execution_count": 5,
     "metadata": {},
     "output_type": "execute_result"
    }
   ],
   "source": [
    "mean_"
   ]
  },
  {
   "cell_type": "code",
   "execution_count": 6,
   "metadata": {},
   "outputs": [],
   "source": [
    "import matplotlib.pyplot as plt\n",
    "plt.figure(figsize=(15,10))\n",
    "plt.hist(degs, bins=40)\n",
    "plt.yscale('log')"
   ]
  },
  {
   "cell_type": "code",
   "execution_count": 8,
   "metadata": {},
   "outputs": [
    {
     "data": {
      "application/vnd.jupyter.widget-view+json": {
       "model_id": "13ca4821e1924295a1251e4fd543d1e9",
       "version_major": 2,
       "version_minor": 0
      },
      "text/plain": [
       "HBox(children=(IntProgress(value=0, max=162058), HTML(value='')))"
      ]
     },
     "metadata": {},
     "output_type": "display_data"
    },
    {
     "ename": "KeyboardInterrupt",
     "evalue": "",
     "output_type": "error",
     "traceback": [
      "\u001b[0;31m---------------------------------------------------------------------------\u001b[0m",
      "\u001b[0;31mKeyboardInterrupt\u001b[0m                         Traceback (most recent call last)",
      "\u001b[0;32m<ipython-input-8-049ce9bfb98e>\u001b[0m in \u001b[0;36m<module>\u001b[0;34m\u001b[0m\n\u001b[0;32m----> 1\u001b[0;31m \u001b[0mdegs2\u001b[0m \u001b[0;34m=\u001b[0m \u001b[0mtrain_ngh_finder\u001b[0m\u001b[0;34m.\u001b[0m\u001b[0mcompute_2hop_degs\u001b[0m\u001b[0;34m(\u001b[0m\u001b[0mprogress_bar\u001b[0m\u001b[0;34m=\u001b[0m\u001b[0;32mTrue\u001b[0m\u001b[0;34m)\u001b[0m\u001b[0;34m\u001b[0m\u001b[0m\n\u001b[0m",
      "\u001b[0;32m/lfs/turing4/0/ywangdr/newproject/temporal-link-prediction/TGAT/graph.py\u001b[0m in \u001b[0;36mcompute_2hop_degs\u001b[0;34m(self, progress_bar)\u001b[0m\n\u001b[1;32m    215\u001b[0m             \u001b[0;32mfor\u001b[0m \u001b[0mn\u001b[0m\u001b[0;34m,\u001b[0m \u001b[0mts\u001b[0m\u001b[0;34m,\u001b[0m \u001b[0me\u001b[0m \u001b[0;32min\u001b[0m \u001b[0mzip\u001b[0m\u001b[0;34m(\u001b[0m\u001b[0mone_hop_n_idx\u001b[0m\u001b[0;34m,\u001b[0m \u001b[0mone_hop_ts\u001b[0m\u001b[0;34m,\u001b[0m \u001b[0mone_hop_e_idx\u001b[0m\u001b[0;34m)\u001b[0m\u001b[0;34m:\u001b[0m\u001b[0;34m\u001b[0m\u001b[0m\n\u001b[1;32m    216\u001b[0m                 \u001b[0mtwo_hop_n_idx\u001b[0m\u001b[0;34m,\u001b[0m \u001b[0m_\u001b[0m\u001b[0;34m,\u001b[0m \u001b[0mtwo_hop_ts\u001b[0m \u001b[0;34m=\u001b[0m \u001b[0mself\u001b[0m\u001b[0;34m.\u001b[0m\u001b[0mfind_before\u001b[0m\u001b[0;34m(\u001b[0m\u001b[0mn\u001b[0m\u001b[0;34m,\u001b[0m \u001b[0mts\u001b[0m\u001b[0;34m,\u001b[0m \u001b[0me\u001b[0m\u001b[0;34m)\u001b[0m\u001b[0;34m\u001b[0m\u001b[0m\n\u001b[0;32m--> 217\u001b[0;31m                 \u001b[0mtwo_hop_node_l\u001b[0m\u001b[0;34m.\u001b[0m\u001b[0mextend\u001b[0m\u001b[0;34m(\u001b[0m\u001b[0;34m[\u001b[0m\u001b[0;34m(\u001b[0m\u001b[0mtwo_n\u001b[0m\u001b[0;34m,\u001b[0m \u001b[0mfloat2str\u001b[0m\u001b[0;34m(\u001b[0m\u001b[0mtwo_ts\u001b[0m\u001b[0;34m)\u001b[0m\u001b[0;34m)\u001b[0m \u001b[0;32mfor\u001b[0m \u001b[0mtwo_n\u001b[0m\u001b[0;34m,\u001b[0m \u001b[0mtwo_ts\u001b[0m \u001b[0;32min\u001b[0m \u001b[0mzip\u001b[0m\u001b[0;34m(\u001b[0m\u001b[0mtwo_hop_n_idx\u001b[0m\u001b[0;34m,\u001b[0m \u001b[0mtwo_hop_ts\u001b[0m\u001b[0;34m)\u001b[0m\u001b[0;34m]\u001b[0m\u001b[0;34m)\u001b[0m\u001b[0;34m\u001b[0m\u001b[0m\n\u001b[0m\u001b[1;32m    218\u001b[0m             \u001b[0mtwo_hop_node_l\u001b[0m \u001b[0;34m=\u001b[0m  \u001b[0mset\u001b[0m\u001b[0;34m(\u001b[0m\u001b[0mtwo_hop_node_l\u001b[0m\u001b[0;34m)\u001b[0m \u001b[0;34m-\u001b[0m \u001b[0mone_hop_node_l\u001b[0m\u001b[0;34m\u001b[0m\u001b[0m\n\u001b[1;32m    219\u001b[0m             \u001b[0mdegs\u001b[0m\u001b[0;34m.\u001b[0m\u001b[0mappend\u001b[0m\u001b[0;34m(\u001b[0m\u001b[0;34m(\u001b[0m\u001b[0mlen\u001b[0m\u001b[0;34m(\u001b[0m\u001b[0mone_hop_node_l\u001b[0m\u001b[0;34m)\u001b[0m\u001b[0;34m,\u001b[0m \u001b[0mtwo_hop_node_l\u001b[0m\u001b[0;34m)\u001b[0m\u001b[0;34m)\u001b[0m\u001b[0;34m\u001b[0m\u001b[0m\n",
      "\u001b[0;32m/lfs/turing4/0/ywangdr/newproject/temporal-link-prediction/TGAT/graph.py\u001b[0m in \u001b[0;36m<listcomp>\u001b[0;34m(.0)\u001b[0m\n\u001b[1;32m    215\u001b[0m             \u001b[0;32mfor\u001b[0m \u001b[0mn\u001b[0m\u001b[0;34m,\u001b[0m \u001b[0mts\u001b[0m\u001b[0;34m,\u001b[0m \u001b[0me\u001b[0m \u001b[0;32min\u001b[0m \u001b[0mzip\u001b[0m\u001b[0;34m(\u001b[0m\u001b[0mone_hop_n_idx\u001b[0m\u001b[0;34m,\u001b[0m \u001b[0mone_hop_ts\u001b[0m\u001b[0;34m,\u001b[0m \u001b[0mone_hop_e_idx\u001b[0m\u001b[0;34m)\u001b[0m\u001b[0;34m:\u001b[0m\u001b[0;34m\u001b[0m\u001b[0m\n\u001b[1;32m    216\u001b[0m                 \u001b[0mtwo_hop_n_idx\u001b[0m\u001b[0;34m,\u001b[0m \u001b[0m_\u001b[0m\u001b[0;34m,\u001b[0m \u001b[0mtwo_hop_ts\u001b[0m \u001b[0;34m=\u001b[0m \u001b[0mself\u001b[0m\u001b[0;34m.\u001b[0m\u001b[0mfind_before\u001b[0m\u001b[0;34m(\u001b[0m\u001b[0mn\u001b[0m\u001b[0;34m,\u001b[0m \u001b[0mts\u001b[0m\u001b[0;34m,\u001b[0m \u001b[0me\u001b[0m\u001b[0;34m)\u001b[0m\u001b[0;34m\u001b[0m\u001b[0m\n\u001b[0;32m--> 217\u001b[0;31m                 \u001b[0mtwo_hop_node_l\u001b[0m\u001b[0;34m.\u001b[0m\u001b[0mextend\u001b[0m\u001b[0;34m(\u001b[0m\u001b[0;34m[\u001b[0m\u001b[0;34m(\u001b[0m\u001b[0mtwo_n\u001b[0m\u001b[0;34m,\u001b[0m \u001b[0mfloat2str\u001b[0m\u001b[0;34m(\u001b[0m\u001b[0mtwo_ts\u001b[0m\u001b[0;34m)\u001b[0m\u001b[0;34m)\u001b[0m \u001b[0;32mfor\u001b[0m \u001b[0mtwo_n\u001b[0m\u001b[0;34m,\u001b[0m \u001b[0mtwo_ts\u001b[0m \u001b[0;32min\u001b[0m \u001b[0mzip\u001b[0m\u001b[0;34m(\u001b[0m\u001b[0mtwo_hop_n_idx\u001b[0m\u001b[0;34m,\u001b[0m \u001b[0mtwo_hop_ts\u001b[0m\u001b[0;34m)\u001b[0m\u001b[0;34m]\u001b[0m\u001b[0;34m)\u001b[0m\u001b[0;34m\u001b[0m\u001b[0m\n\u001b[0m\u001b[1;32m    218\u001b[0m             \u001b[0mtwo_hop_node_l\u001b[0m \u001b[0;34m=\u001b[0m  \u001b[0mset\u001b[0m\u001b[0;34m(\u001b[0m\u001b[0mtwo_hop_node_l\u001b[0m\u001b[0;34m)\u001b[0m \u001b[0;34m-\u001b[0m \u001b[0mone_hop_node_l\u001b[0m\u001b[0;34m\u001b[0m\u001b[0m\n\u001b[1;32m    219\u001b[0m             \u001b[0mdegs\u001b[0m\u001b[0;34m.\u001b[0m\u001b[0mappend\u001b[0m\u001b[0;34m(\u001b[0m\u001b[0;34m(\u001b[0m\u001b[0mlen\u001b[0m\u001b[0;34m(\u001b[0m\u001b[0mone_hop_node_l\u001b[0m\u001b[0;34m)\u001b[0m\u001b[0;34m,\u001b[0m \u001b[0mtwo_hop_node_l\u001b[0m\u001b[0;34m)\u001b[0m\u001b[0;34m)\u001b[0m\u001b[0;34m\u001b[0m\u001b[0m\n",
      "\u001b[0;32m/lfs/turing4/0/ywangdr/newproject/temporal-link-prediction/TGAT/graph.py\u001b[0m in \u001b[0;36mfloat2str\u001b[0;34m(ts)\u001b[0m\n\u001b[1;32m    197\u001b[0m         '''\n\u001b[1;32m    198\u001b[0m         \u001b[0;32mdef\u001b[0m \u001b[0mfloat2str\u001b[0m\u001b[0;34m(\u001b[0m\u001b[0mts\u001b[0m\u001b[0;34m)\u001b[0m\u001b[0;34m:\u001b[0m\u001b[0;34m\u001b[0m\u001b[0m\n\u001b[0;32m--> 199\u001b[0;31m             \u001b[0;32mreturn\u001b[0m \u001b[0mstr\u001b[0m\u001b[0;34m(\u001b[0m\u001b[0mround\u001b[0m\u001b[0;34m(\u001b[0m\u001b[0mts\u001b[0m\u001b[0;34m,\u001b[0m \u001b[0;36m5\u001b[0m\u001b[0;34m)\u001b[0m\u001b[0;34m)\u001b[0m\u001b[0;34m\u001b[0m\u001b[0m\n\u001b[0m\u001b[1;32m    200\u001b[0m         \u001b[0mnode_idx_l\u001b[0m \u001b[0;34m=\u001b[0m \u001b[0mself\u001b[0m\u001b[0;34m.\u001b[0m\u001b[0mnode_idx_l\u001b[0m\u001b[0;34m\u001b[0m\u001b[0m\n\u001b[1;32m    201\u001b[0m         \u001b[0mnode_ts_l\u001b[0m \u001b[0;34m=\u001b[0m \u001b[0mself\u001b[0m\u001b[0;34m.\u001b[0m\u001b[0mnode_ts_l\u001b[0m\u001b[0;34m\u001b[0m\u001b[0m\n",
      "\u001b[0;31mKeyboardInterrupt\u001b[0m: "
     ]
    }
   ],
   "source": [
    "degs2 = train_ngh_finder.compute_2hop_degs(progress_bar=True)"
   ]
  },
  {
   "cell_type": "code",
   "execution_count": null,
   "metadata": {},
   "outputs": [],
   "source": []
  }
 ],
 "metadata": {
  "kernelspec": {
   "display_name": "mypython35",
   "language": "python",
   "name": "mypython35"
  },
  "language_info": {
   "codemirror_mode": {
    "name": "ipython",
    "version": 3
   },
   "file_extension": ".py",
   "mimetype": "text/x-python",
   "name": "python",
   "nbconvert_exporter": "python",
   "pygments_lexer": "ipython3",
   "version": "3.5.2"
  },
  "toc": {
   "base_numbering": 1,
   "nav_menu": {},
   "number_sections": true,
   "sideBar": true,
   "skip_h1_title": false,
   "title_cell": "Table of Contents",
   "title_sidebar": "Contents",
   "toc_cell": false,
   "toc_position": {},
   "toc_section_display": true,
   "toc_window_display": false
  }
 },
 "nbformat": 4,
 "nbformat_minor": 2
}
